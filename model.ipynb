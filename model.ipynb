{
 "cells": [
  {
   "cell_type": "code",
   "execution_count": 26,
   "metadata": {},
   "outputs": [],
   "source": [
    "import pandas as pd\n",
    "import numpy as np\n",
    "from sklearn.tree import DecisionTreeClassifier\n",
    "from sklearn.ensemble import RandomForestClassifier\n",
    "from xgboost import XGBClassifier\n",
    "from sklearn.metrics import precision_recall_fscore_support, accuracy_score, classification_report, confusion_matrix\n",
    "from sklearn.model_selection import GridSearchCV\n",
    "from tensorflow import keras\n",
    "from tensorflow.keras import layers"
   ]
  },
  {
   "cell_type": "code",
   "execution_count": 3,
   "metadata": {},
   "outputs": [],
   "source": [
    "def get_performance(predictions, y_test, labels=[1, 0]):\n",
    "    # Put your code\n",
    "    accuracy = accuracy_score(y_test, predictions)\n",
    "    precision, recall, f1_score, support = precision_recall_fscore_support(y_test, predictions)\n",
    "    precision = precision[1]\n",
    "    recall = recall[1]\n",
    "    f1_score = f1_score[1]\n",
    "    \n",
    "    report = classification_report(y_test, predictions)\n",
    "    \n",
    "    cm = confusion_matrix(y_test, predictions)  # replace\n",
    "    cm_as_dataframe = pd.DataFrame(data=cm)\n",
    "    \n",
    "    print('Model Performance metrics:')\n",
    "    print('-'*30)\n",
    "    print('Accuracy:', accuracy)\n",
    "    print('Precision:', precision)\n",
    "    print('Recall:', recall)\n",
    "    print('F1 Score:', f1_score)\n",
    "    print('\\nModel Classification report:')\n",
    "    print('-'*30)\n",
    "    print(report)\n",
    "    print('\\nPrediction Confusion Matrix:')\n",
    "    print('-'*30)\n",
    "    print(cm_as_dataframe)\n",
    "    \n",
    "    return accuracy, precision, recall, f1_score"
   ]
  },
  {
   "cell_type": "code",
   "execution_count": 4,
   "metadata": {},
   "outputs": [],
   "source": [
    "X_train=pd.read_csv('X_train.csv')\n",
    "X_test=pd.read_csv('X_test.csv')\n",
    "y_train=pd.read_csv('y_train.csv')\n",
    "y_test=pd.read_csv('y_test.csv')"
   ]
  },
  {
   "cell_type": "code",
   "execution_count": 5,
   "metadata": {},
   "outputs": [],
   "source": [
    "X_train=X_train.drop(columns=['Unnamed: 0','PassengerId'],axis=1)\n",
    "X_test=X_test.drop(columns=['Unnamed: 0','PassengerId'],axis=1)"
   ]
  },
  {
   "cell_type": "code",
   "execution_count": 6,
   "metadata": {},
   "outputs": [
    {
     "data": {
      "text/html": [
       "<div>\n",
       "<style scoped>\n",
       "    .dataframe tbody tr th:only-of-type {\n",
       "        vertical-align: middle;\n",
       "    }\n",
       "\n",
       "    .dataframe tbody tr th {\n",
       "        vertical-align: top;\n",
       "    }\n",
       "\n",
       "    .dataframe thead th {\n",
       "        text-align: right;\n",
       "    }\n",
       "</style>\n",
       "<table border=\"1\" class=\"dataframe\">\n",
       "  <thead>\n",
       "    <tr style=\"text-align: right;\">\n",
       "      <th></th>\n",
       "      <th>Pclass</th>\n",
       "      <th>Sex</th>\n",
       "      <th>Age</th>\n",
       "      <th>SibSp</th>\n",
       "      <th>Parch</th>\n",
       "      <th>Fare</th>\n",
       "    </tr>\n",
       "  </thead>\n",
       "  <tbody>\n",
       "    <tr>\n",
       "      <th>0</th>\n",
       "      <td>3</td>\n",
       "      <td>1.0</td>\n",
       "      <td>28.0</td>\n",
       "      <td>0</td>\n",
       "      <td>0</td>\n",
       "      <td>7.8958</td>\n",
       "    </tr>\n",
       "    <tr>\n",
       "      <th>1</th>\n",
       "      <td>3</td>\n",
       "      <td>0.0</td>\n",
       "      <td>17.0</td>\n",
       "      <td>4</td>\n",
       "      <td>2</td>\n",
       "      <td>7.9250</td>\n",
       "    </tr>\n",
       "    <tr>\n",
       "      <th>2</th>\n",
       "      <td>3</td>\n",
       "      <td>1.0</td>\n",
       "      <td>30.0</td>\n",
       "      <td>1</td>\n",
       "      <td>0</td>\n",
       "      <td>16.1000</td>\n",
       "    </tr>\n",
       "    <tr>\n",
       "      <th>3</th>\n",
       "      <td>3</td>\n",
       "      <td>1.0</td>\n",
       "      <td>22.0</td>\n",
       "      <td>0</td>\n",
       "      <td>0</td>\n",
       "      <td>7.2500</td>\n",
       "    </tr>\n",
       "    <tr>\n",
       "      <th>4</th>\n",
       "      <td>2</td>\n",
       "      <td>0.0</td>\n",
       "      <td>45.0</td>\n",
       "      <td>0</td>\n",
       "      <td>0</td>\n",
       "      <td>13.5000</td>\n",
       "    </tr>\n",
       "    <tr>\n",
       "      <th>...</th>\n",
       "      <td>...</td>\n",
       "      <td>...</td>\n",
       "      <td>...</td>\n",
       "      <td>...</td>\n",
       "      <td>...</td>\n",
       "      <td>...</td>\n",
       "    </tr>\n",
       "    <tr>\n",
       "      <th>663</th>\n",
       "      <td>1</td>\n",
       "      <td>0.0</td>\n",
       "      <td>39.0</td>\n",
       "      <td>1</td>\n",
       "      <td>1</td>\n",
       "      <td>83.1583</td>\n",
       "    </tr>\n",
       "    <tr>\n",
       "      <th>664</th>\n",
       "      <td>3</td>\n",
       "      <td>0.0</td>\n",
       "      <td>19.0</td>\n",
       "      <td>1</td>\n",
       "      <td>0</td>\n",
       "      <td>7.8542</td>\n",
       "    </tr>\n",
       "    <tr>\n",
       "      <th>665</th>\n",
       "      <td>3</td>\n",
       "      <td>1.0</td>\n",
       "      <td>28.0</td>\n",
       "      <td>0</td>\n",
       "      <td>0</td>\n",
       "      <td>7.7333</td>\n",
       "    </tr>\n",
       "    <tr>\n",
       "      <th>666</th>\n",
       "      <td>3</td>\n",
       "      <td>0.0</td>\n",
       "      <td>36.0</td>\n",
       "      <td>1</td>\n",
       "      <td>0</td>\n",
       "      <td>17.4000</td>\n",
       "    </tr>\n",
       "    <tr>\n",
       "      <th>667</th>\n",
       "      <td>2</td>\n",
       "      <td>1.0</td>\n",
       "      <td>60.0</td>\n",
       "      <td>1</td>\n",
       "      <td>1</td>\n",
       "      <td>39.0000</td>\n",
       "    </tr>\n",
       "  </tbody>\n",
       "</table>\n",
       "<p>668 rows × 6 columns</p>\n",
       "</div>"
      ],
      "text/plain": [
       "     Pclass  Sex   Age  SibSp  Parch     Fare\n",
       "0         3  1.0  28.0      0      0   7.8958\n",
       "1         3  0.0  17.0      4      2   7.9250\n",
       "2         3  1.0  30.0      1      0  16.1000\n",
       "3         3  1.0  22.0      0      0   7.2500\n",
       "4         2  0.0  45.0      0      0  13.5000\n",
       "..      ...  ...   ...    ...    ...      ...\n",
       "663       1  0.0  39.0      1      1  83.1583\n",
       "664       3  0.0  19.0      1      0   7.8542\n",
       "665       3  1.0  28.0      0      0   7.7333\n",
       "666       3  0.0  36.0      1      0  17.4000\n",
       "667       2  1.0  60.0      1      1  39.0000\n",
       "\n",
       "[668 rows x 6 columns]"
      ]
     },
     "execution_count": 6,
     "metadata": {},
     "output_type": "execute_result"
    }
   ],
   "source": [
    "X_train"
   ]
  },
  {
   "cell_type": "code",
   "execution_count": 7,
   "metadata": {},
   "outputs": [],
   "source": [
    "y_train=y_train.drop(columns=['Unnamed: 0'],axis=1)\n",
    "y_test=y_test.drop(columns=['Unnamed: 0'],axis=1)"
   ]
  },
  {
   "attachments": {},
   "cell_type": "markdown",
   "metadata": {},
   "source": [
    "#### Baseline"
   ]
  },
  {
   "cell_type": "code",
   "execution_count": 8,
   "metadata": {},
   "outputs": [],
   "source": [
    "dtc=DecisionTreeClassifier(criterion='gini', splitter='best', max_depth=50, min_samples_split=2, min_samples_leaf=1)"
   ]
  },
  {
   "cell_type": "code",
   "execution_count": 9,
   "metadata": {},
   "outputs": [
    {
     "data": {
      "text/plain": [
       "DecisionTreeClassifier(max_depth=50)"
      ]
     },
     "execution_count": 9,
     "metadata": {},
     "output_type": "execute_result"
    }
   ],
   "source": [
    "dtc.fit(X_train,y_train['Survived'])"
   ]
  },
  {
   "cell_type": "code",
   "execution_count": 10,
   "metadata": {},
   "outputs": [],
   "source": [
    "y_test_pred=dtc.predict(X_test)"
   ]
  },
  {
   "cell_type": "code",
   "execution_count": 11,
   "metadata": {},
   "outputs": [
    {
     "data": {
      "text/plain": [
       "array([0, 0, 0, 1, 1, 0, 1, 1, 1, 1, 0, 1, 0, 1, 1, 1, 0, 0, 0, 1, 0, 0,\n",
       "       0, 1, 1, 1, 0, 1, 1, 0, 0, 1, 0, 1, 1, 0, 0, 1, 0, 0, 0, 1, 0, 0,\n",
       "       1, 0, 0, 1, 0, 0, 0, 0, 1, 0, 0, 0, 0, 0, 0, 0, 0, 1, 1, 0, 1, 0,\n",
       "       1, 0, 0, 1, 0, 1, 1, 0, 0, 1, 0, 0, 0, 1, 0, 1, 1, 0, 0, 1, 1, 0,\n",
       "       1, 0, 0, 0, 1, 1, 0, 0, 1, 0, 0, 0, 0, 0, 0, 0, 1, 1, 1, 0, 0, 1,\n",
       "       0, 1, 1, 0, 0, 1, 0, 1, 0, 1, 0, 1, 0, 0, 0, 0, 0, 0, 0, 0, 1, 0,\n",
       "       0, 1, 0, 0, 0, 0, 0, 0, 1, 1, 0, 1, 1, 1, 0, 0, 1, 1, 0, 1, 1, 1,\n",
       "       1, 0, 0, 0, 1, 1, 0, 0, 1, 1, 0, 0, 0, 1, 0, 0, 0, 1, 0, 0, 1, 0,\n",
       "       1, 0, 0, 1, 0, 0, 0, 0, 0, 0, 1, 0, 0, 1, 1, 0, 1, 1, 0, 0, 0, 0,\n",
       "       1, 0, 0, 0, 0, 0, 0, 0, 1, 1, 1, 0, 0, 0, 0, 0, 0, 0, 0, 1, 0, 1,\n",
       "       0, 1, 1])"
      ]
     },
     "execution_count": 11,
     "metadata": {},
     "output_type": "execute_result"
    }
   ],
   "source": [
    "y_test_pred"
   ]
  },
  {
   "cell_type": "code",
   "execution_count": 12,
   "metadata": {},
   "outputs": [
    {
     "data": {
      "text/plain": [
       "0      0\n",
       "1      0\n",
       "2      0\n",
       "3      1\n",
       "4      1\n",
       "      ..\n",
       "218    0\n",
       "219    1\n",
       "220    0\n",
       "221    1\n",
       "222    1\n",
       "Name: Survived, Length: 223, dtype: int64"
      ]
     },
     "execution_count": 12,
     "metadata": {},
     "output_type": "execute_result"
    }
   ],
   "source": [
    "y_test['Survived']"
   ]
  },
  {
   "cell_type": "code",
   "execution_count": 13,
   "metadata": {},
   "outputs": [
    {
     "data": {
      "text/plain": [
       "0.7757847533632287"
      ]
     },
     "execution_count": 13,
     "metadata": {},
     "output_type": "execute_result"
    }
   ],
   "source": [
    "accuracy_score(y_test['Survived'],y_test_pred)"
   ]
  },
  {
   "cell_type": "code",
   "execution_count": 14,
   "metadata": {},
   "outputs": [
    {
     "data": {
      "text/plain": [
       "0.7757847533632287"
      ]
     },
     "execution_count": 14,
     "metadata": {},
     "output_type": "execute_result"
    }
   ],
   "source": [
    "sum(y_test['Survived']==y_test_pred)/len(y_test)"
   ]
  },
  {
   "cell_type": "code",
   "execution_count": 15,
   "metadata": {},
   "outputs": [
    {
     "data": {
      "text/plain": [
       "array([[113,  26],\n",
       "       [ 24,  60]])"
      ]
     },
     "execution_count": 15,
     "metadata": {},
     "output_type": "execute_result"
    }
   ],
   "source": [
    "confusion_matrix(y_test['Survived'],y_test_pred)"
   ]
  },
  {
   "cell_type": "code",
   "execution_count": 16,
   "metadata": {},
   "outputs": [
    {
     "name": "stdout",
     "output_type": "stream",
     "text": [
      "Model Performance metrics:\n",
      "------------------------------\n",
      "Accuracy: 0.7757847533632287\n",
      "Precision: 0.6976744186046512\n",
      "Recall: 0.7142857142857143\n",
      "F1 Score: 0.7058823529411765\n",
      "\n",
      "Model Classification report:\n",
      "------------------------------\n",
      "              precision    recall  f1-score   support\n",
      "\n",
      "           0       0.82      0.81      0.82       139\n",
      "           1       0.70      0.71      0.71        84\n",
      "\n",
      "    accuracy                           0.78       223\n",
      "   macro avg       0.76      0.76      0.76       223\n",
      "weighted avg       0.78      0.78      0.78       223\n",
      "\n",
      "\n",
      "Prediction Confusion Matrix:\n",
      "------------------------------\n",
      "     0   1\n",
      "0  113  26\n",
      "1   24  60\n"
     ]
    },
    {
     "data": {
      "text/plain": [
       "(0.7757847533632287,\n",
       " 0.6976744186046512,\n",
       " 0.7142857142857143,\n",
       " 0.7058823529411765)"
      ]
     },
     "execution_count": 16,
     "metadata": {},
     "output_type": "execute_result"
    }
   ],
   "source": [
    "get_performance(y_test_pred, y_test['Survived'])"
   ]
  },
  {
   "attachments": {},
   "cell_type": "markdown",
   "metadata": {},
   "source": [
    "### Random Forest"
   ]
  },
  {
   "cell_type": "code",
   "execution_count": 17,
   "metadata": {},
   "outputs": [],
   "source": [
    "param_grid = {\n",
    "    'bootstrap': [True],\n",
    "    'max_depth': [80, 90, 100, 110],\n",
    "    'max_features': [2,3,5],\n",
    "    'min_samples_leaf': [3, 4, 5],\n",
    "    'min_samples_split': [8, 10, 12],\n",
    "    'n_estimators': [100, 200, 250]\n",
    "}\n",
    "rf = RandomForestClassifier()\n",
    "grid_search = GridSearchCV(rf, param_grid = param_grid, cv = 3, n_jobs = -1, verbose = 2)\n"
   ]
  },
  {
   "cell_type": "code",
   "execution_count": null,
   "metadata": {},
   "outputs": [],
   "source": [
    "grid_search.fit(X_train,y_train['Survived'])"
   ]
  },
  {
   "cell_type": "code",
   "execution_count": 19,
   "metadata": {},
   "outputs": [
    {
     "data": {
      "text/plain": [
       "RandomForestClassifier(max_depth=110, max_features=2, min_samples_leaf=3,\n",
       "                       min_samples_split=8)"
      ]
     },
     "execution_count": 19,
     "metadata": {},
     "output_type": "execute_result"
    }
   ],
   "source": [
    "grid_search.best_estimator_"
   ]
  },
  {
   "cell_type": "code",
   "execution_count": 20,
   "metadata": {},
   "outputs": [],
   "source": [
    "y_test_pred_rf=grid_search.predict(X_test)"
   ]
  },
  {
   "cell_type": "code",
   "execution_count": 21,
   "metadata": {},
   "outputs": [
    {
     "data": {
      "text/plain": [
       "0.852017937219731"
      ]
     },
     "execution_count": 21,
     "metadata": {},
     "output_type": "execute_result"
    }
   ],
   "source": [
    "accuracy_score(y_test['Survived'],y_test_pred_rf)"
   ]
  },
  {
   "cell_type": "code",
   "execution_count": 22,
   "metadata": {},
   "outputs": [
    {
     "data": {
      "text/plain": [
       "array([[128,  11],\n",
       "       [ 22,  62]])"
      ]
     },
     "execution_count": 22,
     "metadata": {},
     "output_type": "execute_result"
    }
   ],
   "source": [
    "confusion_matrix(y_test['Survived'],y_test_pred_rf)"
   ]
  },
  {
   "cell_type": "code",
   "execution_count": 23,
   "metadata": {},
   "outputs": [
    {
     "name": "stdout",
     "output_type": "stream",
     "text": [
      "Model Performance metrics:\n",
      "------------------------------\n",
      "Accuracy: 0.852017937219731\n",
      "Precision: 0.8493150684931506\n",
      "Recall: 0.7380952380952381\n",
      "F1 Score: 0.7898089171974523\n",
      "\n",
      "Model Classification report:\n",
      "------------------------------\n",
      "              precision    recall  f1-score   support\n",
      "\n",
      "           0       0.85      0.92      0.89       139\n",
      "           1       0.85      0.74      0.79        84\n",
      "\n",
      "    accuracy                           0.85       223\n",
      "   macro avg       0.85      0.83      0.84       223\n",
      "weighted avg       0.85      0.85      0.85       223\n",
      "\n",
      "\n",
      "Prediction Confusion Matrix:\n",
      "------------------------------\n",
      "     0   1\n",
      "0  128  11\n",
      "1   22  62\n"
     ]
    },
    {
     "data": {
      "text/plain": [
       "(0.852017937219731, 0.8493150684931506, 0.7380952380952381, 0.7898089171974523)"
      ]
     },
     "execution_count": 23,
     "metadata": {},
     "output_type": "execute_result"
    }
   ],
   "source": [
    "get_performance(y_test_pred_rf, y_test['Survived'])"
   ]
  },
  {
   "attachments": {},
   "cell_type": "markdown",
   "metadata": {},
   "source": [
    "### XGboost"
   ]
  },
  {
   "cell_type": "code",
   "execution_count": 27,
   "metadata": {},
   "outputs": [],
   "source": [
    "\n",
    "param_dist = {\n",
    "    'n_estimators':[5,6,7,8],\n",
    "    'max_depth':[30,40,50], \n",
    "    'learning_rate':[0.2,0.25,0.3],\n",
    "    }\n",
    "#Create the lgbm moodel object\n",
    "bst = XGBClassifier(objective='binary:logistic')\n",
    "#Create the GridSearch object\n",
    "bst_grid = GridSearchCV(bst, param_dist,cv = 5, n_jobs = -1, verbose = 2)"
   ]
  },
  {
   "cell_type": "code",
   "execution_count": 28,
   "metadata": {},
   "outputs": [
    {
     "name": "stdout",
     "output_type": "stream",
     "text": [
      "Fitting 5 folds for each of 36 candidates, totalling 180 fits\n",
      "[CV] END ....learning_rate=0.2, max_depth=30, n_estimators=5; total time=   0.2s\n",
      "[CV] END ....learning_rate=0.2, max_depth=30, n_estimators=5; total time=   0.2s\n",
      "[CV] END ....learning_rate=0.2, max_depth=30, n_estimators=5; total time=   0.2s\n",
      "[CV] END ....learning_rate=0.2, max_depth=30, n_estimators=6; total time=   0.0s\n",
      "[CV] END ....learning_rate=0.2, max_depth=30, n_estimators=5; total time=   0.1s\n",
      "[CV] END ....learning_rate=0.2, max_depth=30, n_estimators=6; total time=   0.2s\n",
      "[CV] END ....learning_rate=0.2, max_depth=30, n_estimators=6; total time=   0.0s\n",
      "[CV] END ....learning_rate=0.2, max_depth=30, n_estimators=6; total time=   0.2s\n",
      "[CV] END ....learning_rate=0.2, max_depth=30, n_estimators=6; total time=   0.1s\n",
      "[CV] END ....learning_rate=0.2, max_depth=30, n_estimators=7; total time=   0.1s\n",
      "[CV] END ....learning_rate=0.2, max_depth=30, n_estimators=7; total time=   0.1s\n",
      "[CV] END ....learning_rate=0.2, max_depth=30, n_estimators=7; total time=   0.1s\n",
      "[CV] END ....learning_rate=0.2, max_depth=30, n_estimators=8; total time=   0.0s\n",
      "[CV] END ....learning_rate=0.2, max_depth=30, n_estimators=7; total time=   0.1s\n",
      "[CV] END ....learning_rate=0.2, max_depth=30, n_estimators=7; total time=   0.1s\n",
      "[CV] END ....learning_rate=0.2, max_depth=30, n_estimators=8; total time=   0.0s\n",
      "[CV] END ....learning_rate=0.2, max_depth=30, n_estimators=8; total time=   0.1s\n",
      "[CV] END ....learning_rate=0.2, max_depth=40, n_estimators=5; total time=   0.0s\n",
      "[CV] END ....learning_rate=0.2, max_depth=30, n_estimators=8; total time=   0.1s\n",
      "[CV] END ....learning_rate=0.2, max_depth=30, n_estimators=8; total time=   0.1s\n",
      "[CV] END ....learning_rate=0.2, max_depth=40, n_estimators=5; total time=   0.0s\n",
      "[CV] END ....learning_rate=0.2, max_depth=40, n_estimators=5; total time=   0.0s\n",
      "[CV] END ....learning_rate=0.2, max_depth=40, n_estimators=5; total time=   0.0s\n",
      "[CV] END ....learning_rate=0.2, max_depth=40, n_estimators=5; total time=   0.0s\n",
      "[CV] END ....learning_rate=0.2, max_depth=30, n_estimators=5; total time=   0.1s\n",
      "[CV] END ....learning_rate=0.2, max_depth=40, n_estimators=6; total time=   0.0s\n",
      "[CV] END ....learning_rate=0.2, max_depth=40, n_estimators=6; total time=   0.0s\n",
      "[CV] END ....learning_rate=0.2, max_depth=40, n_estimators=6; total time=   0.0s\n",
      "[CV] END ....learning_rate=0.2, max_depth=40, n_estimators=7; total time=   0.1s\n",
      "[CV] END ....learning_rate=0.2, max_depth=40, n_estimators=6; total time=   0.1s\n",
      "[CV] END ....learning_rate=0.2, max_depth=40, n_estimators=7; total time=   0.1s\n",
      "[CV] END ....learning_rate=0.2, max_depth=40, n_estimators=7; total time=   0.0s\n",
      "[CV] END ....learning_rate=0.2, max_depth=40, n_estimators=8; total time=   0.0s[CV] END ....learning_rate=0.2, max_depth=40, n_estimators=7; total time=   0.1s\n",
      "\n",
      "[CV] END ....learning_rate=0.2, max_depth=40, n_estimators=8; total time=   0.0s\n",
      "[CV] END ....learning_rate=0.2, max_depth=40, n_estimators=8; total time=   0.0s\n",
      "[CV] END ....learning_rate=0.2, max_depth=40, n_estimators=7; total time=   0.0s\n",
      "[CV] END ....learning_rate=0.2, max_depth=40, n_estimators=8; total time=   0.0s[CV] END ....learning_rate=0.2, max_depth=50, n_estimators=5; total time=   0.0s\n",
      "\n",
      "[CV] END ....learning_rate=0.2, max_depth=50, n_estimators=5; total time=   0.0s\n",
      "[CV] END ....learning_rate=0.2, max_depth=50, n_estimators=5; total time=   0.0s\n",
      "[CV] END ....learning_rate=0.2, max_depth=40, n_estimators=8; total time=   0.0s\n",
      "[CV] END ....learning_rate=0.2, max_depth=50, n_estimators=5; total time=   0.0s\n",
      "[CV] END ....learning_rate=0.2, max_depth=50, n_estimators=5; total time=   0.0s\n",
      "[CV] END ....learning_rate=0.2, max_depth=50, n_estimators=6; total time=   0.0s\n",
      "[CV] END ....learning_rate=0.2, max_depth=50, n_estimators=6; total time=   0.0s\n",
      "[CV] END ....learning_rate=0.2, max_depth=50, n_estimators=6; total time=   0.0s\n",
      "[CV] END ....learning_rate=0.2, max_depth=50, n_estimators=6; total time=   0.0s\n",
      "[CV] END ....learning_rate=0.2, max_depth=50, n_estimators=7; total time=   0.0s\n",
      "[CV] END ....learning_rate=0.2, max_depth=50, n_estimators=6; total time=   0.2s\n",
      "[CV] END ....learning_rate=0.2, max_depth=50, n_estimators=8; total time=   0.2s\n",
      "[CV] END ....learning_rate=0.2, max_depth=50, n_estimators=7; total time=   0.1s\n",
      "[CV] END ....learning_rate=0.2, max_depth=40, n_estimators=6; total time=   0.6s\n",
      "[CV] END ....learning_rate=0.2, max_depth=50, n_estimators=7; total time=   0.3s\n",
      "[CV] END ....learning_rate=0.2, max_depth=50, n_estimators=8; total time=   0.2s\n",
      "[CV] END ....learning_rate=0.2, max_depth=50, n_estimators=7; total time=   0.1s\n",
      "[CV] END ....learning_rate=0.2, max_depth=50, n_estimators=7; total time=   0.1s\n",
      "[CV] END ...learning_rate=0.25, max_depth=30, n_estimators=5; total time=   0.1s\n",
      "[CV] END ....learning_rate=0.2, max_depth=50, n_estimators=8; total time=   0.0s\n",
      "[CV] END ...learning_rate=0.25, max_depth=30, n_estimators=5; total time=   0.0s\n",
      "[CV] END ...learning_rate=0.25, max_depth=30, n_estimators=5; total time=   0.1s\n",
      "[CV] END ...learning_rate=0.25, max_depth=30, n_estimators=5; total time=   0.0s\n",
      "[CV] END ...learning_rate=0.25, max_depth=30, n_estimators=6; total time=   0.2s\n",
      "[CV] END ....learning_rate=0.2, max_depth=50, n_estimators=8; total time=   0.3s\n",
      "[CV] END ...learning_rate=0.25, max_depth=30, n_estimators=6; total time=   0.0s\n",
      "[CV] END ....learning_rate=0.2, max_depth=50, n_estimators=8; total time=   0.3s\n",
      "[CV] END ...learning_rate=0.25, max_depth=30, n_estimators=6; total time=   0.0s\n",
      "[CV] END ...learning_rate=0.25, max_depth=30, n_estimators=5; total time=   0.0s\n",
      "[CV] END ...learning_rate=0.25, max_depth=30, n_estimators=7; total time=   0.0s\n",
      "[CV] END ...learning_rate=0.25, max_depth=30, n_estimators=6; total time=   0.0s\n",
      "[CV] END ...learning_rate=0.25, max_depth=30, n_estimators=7; total time=   0.0s\n",
      "[CV] END ...learning_rate=0.25, max_depth=30, n_estimators=6; total time=   0.1s\n",
      "[CV] END ...learning_rate=0.25, max_depth=30, n_estimators=8; total time=   0.0s\n",
      "[CV] END ...learning_rate=0.25, max_depth=30, n_estimators=8; total time=   0.0s\n",
      "[CV] END ...learning_rate=0.25, max_depth=30, n_estimators=7; total time=   0.0s\n",
      "[CV] END ...learning_rate=0.25, max_depth=40, n_estimators=5; total time=   0.0s\n",
      "[CV] END ...learning_rate=0.25, max_depth=40, n_estimators=5; total time=   0.0s\n",
      "[CV] END ...learning_rate=0.25, max_depth=30, n_estimators=7; total time=   0.0s\n",
      "[CV] END ...learning_rate=0.25, max_depth=30, n_estimators=8; total time=   0.0s\n",
      "[CV] END ...learning_rate=0.25, max_depth=30, n_estimators=8; total time=   0.0s\n",
      "[CV] END ...learning_rate=0.25, max_depth=30, n_estimators=7; total time=   0.1s\n",
      "[CV] END ...learning_rate=0.25, max_depth=40, n_estimators=5; total time=   0.0s\n",
      "[CV] END ...learning_rate=0.25, max_depth=40, n_estimators=5; total time=   0.1s\n",
      "[CV] END ...learning_rate=0.25, max_depth=40, n_estimators=6; total time=   0.0s\n",
      "[CV] END ...learning_rate=0.25, max_depth=30, n_estimators=8; total time=   0.0s\n",
      "[CV] END ...learning_rate=0.25, max_depth=40, n_estimators=5; total time=   0.0s\n",
      "[CV] END ...learning_rate=0.25, max_depth=40, n_estimators=6; total time=   0.0s[CV] END ...learning_rate=0.25, max_depth=40, n_estimators=6; total time=   0.1s\n",
      "\n",
      "[CV] END ...learning_rate=0.25, max_depth=40, n_estimators=6; total time=   0.0s\n",
      "[CV] END ...learning_rate=0.25, max_depth=40, n_estimators=7; total time=   0.1s\n",
      "[CV] END ...learning_rate=0.25, max_depth=40, n_estimators=7; total time=   0.1s\n",
      "[CV] END ...learning_rate=0.25, max_depth=40, n_estimators=8; total time=   0.1s\n",
      "[CV] END ...learning_rate=0.25, max_depth=40, n_estimators=7; total time=   0.0s\n",
      "[CV] END ...learning_rate=0.25, max_depth=40, n_estimators=6; total time=   0.0s\n",
      "[CV] END ...learning_rate=0.25, max_depth=40, n_estimators=8; total time=   0.1s\n",
      "[CV] END ...learning_rate=0.25, max_depth=40, n_estimators=7; total time=   0.1s\n",
      "[CV] END ...learning_rate=0.25, max_depth=50, n_estimators=5; total time=   0.0s\n",
      "[CV] END ...learning_rate=0.25, max_depth=40, n_estimators=7; total time=   0.1s\n",
      "[CV] END ...learning_rate=0.25, max_depth=50, n_estimators=5; total time=   0.0s\n",
      "[CV] END ...learning_rate=0.25, max_depth=40, n_estimators=8; total time=   0.1s\n",
      "[CV] END ...learning_rate=0.25, max_depth=50, n_estimators=5; total time=   0.1s\n",
      "[CV] END ...learning_rate=0.25, max_depth=50, n_estimators=6; total time=   0.1s\n",
      "[CV] END ...learning_rate=0.25, max_depth=40, n_estimators=8; total time=   0.1s\n",
      "[CV] END ...learning_rate=0.25, max_depth=50, n_estimators=5; total time=   0.0s\n",
      "[CV] END ...learning_rate=0.25, max_depth=40, n_estimators=8; total time=   0.1s\n",
      "[CV] END ...learning_rate=0.25, max_depth=50, n_estimators=6; total time=   0.0s\n",
      "[CV] END ...learning_rate=0.25, max_depth=50, n_estimators=6; total time=   0.1s\n",
      "[CV] END ...learning_rate=0.25, max_depth=50, n_estimators=5; total time=   0.1s\n",
      "[CV] END ...learning_rate=0.25, max_depth=50, n_estimators=7; total time=   0.0s\n",
      "[CV] END ...learning_rate=0.25, max_depth=50, n_estimators=6; total time=   0.0s\n",
      "[CV] END ...learning_rate=0.25, max_depth=50, n_estimators=6; total time=   0.0s\n",
      "[CV] END ...learning_rate=0.25, max_depth=50, n_estimators=7; total time=   0.0s\n",
      "[CV] END ...learning_rate=0.25, max_depth=50, n_estimators=8; total time=   0.0s\n",
      "[CV] END ...learning_rate=0.25, max_depth=50, n_estimators=7; total time=   0.1s\n",
      "[CV] END ...learning_rate=0.25, max_depth=50, n_estimators=7; total time=   0.0s\n",
      "[CV] END ....learning_rate=0.3, max_depth=30, n_estimators=5; total time=   0.1s\n",
      "[CV] END ...learning_rate=0.25, max_depth=50, n_estimators=8; total time=   0.1s\n",
      "[CV] END ....learning_rate=0.3, max_depth=30, n_estimators=5; total time=   0.0s\n",
      "[CV] END ...learning_rate=0.25, max_depth=50, n_estimators=7; total time=   0.0s\n",
      "[CV] END ....learning_rate=0.3, max_depth=30, n_estimators=5; total time=   0.0s\n",
      "[CV] END ...learning_rate=0.25, max_depth=50, n_estimators=8; total time=   0.0s\n",
      "[CV] END ...learning_rate=0.25, max_depth=50, n_estimators=8; total time=   0.0s\n",
      "[CV] END ....learning_rate=0.3, max_depth=30, n_estimators=5; total time=   0.1s\n",
      "[CV] END ....learning_rate=0.3, max_depth=30, n_estimators=6; total time=   0.0s\n",
      "[CV] END ....learning_rate=0.3, max_depth=30, n_estimators=5; total time=   0.0s\n",
      "[CV] END ....learning_rate=0.3, max_depth=30, n_estimators=6; total time=   0.0s\n",
      "[CV] END ....learning_rate=0.3, max_depth=30, n_estimators=6; total time=   0.1s\n",
      "[CV] END ...learning_rate=0.25, max_depth=50, n_estimators=8; total time=   0.1s[CV] END ....learning_rate=0.3, max_depth=30, n_estimators=6; total time=   0.0s\n",
      "\n",
      "[CV] END ....learning_rate=0.3, max_depth=40, n_estimators=5; total time=   0.0s\n",
      "[CV] END ....learning_rate=0.3, max_depth=30, n_estimators=7; total time=   0.0s\n",
      "[CV] END ....learning_rate=0.3, max_depth=40, n_estimators=5; total time=   0.0s\n",
      "[CV] END ....learning_rate=0.3, max_depth=30, n_estimators=8; total time=   0.1s\n",
      "[CV] END ....learning_rate=0.3, max_depth=30, n_estimators=7; total time=   0.0s\n",
      "[CV] END ....learning_rate=0.3, max_depth=40, n_estimators=5; total time=   0.1s\n",
      "[CV] END ....learning_rate=0.3, max_depth=30, n_estimators=8; total time=   0.1s\n",
      "[CV] END ....learning_rate=0.3, max_depth=30, n_estimators=7; total time=   0.1s\n",
      "[CV] END ....learning_rate=0.3, max_depth=40, n_estimators=5; total time=   0.0s\n",
      "[CV] END ....learning_rate=0.3, max_depth=30, n_estimators=8; total time=   0.0s\n",
      "[CV] END ....learning_rate=0.3, max_depth=40, n_estimators=5; total time=   0.0s\n",
      "[CV] END ....learning_rate=0.3, max_depth=30, n_estimators=8; total time=   0.1s\n",
      "[CV] END ....learning_rate=0.3, max_depth=40, n_estimators=6; total time=   0.0s\n",
      "[CV] END ....learning_rate=0.3, max_depth=40, n_estimators=6; total time=   0.0s\n",
      "[CV] END ....learning_rate=0.3, max_depth=30, n_estimators=8; total time=   0.0s\n",
      "[CV] END ....learning_rate=0.3, max_depth=40, n_estimators=6; total time=   0.0s\n",
      "[CV] END ....learning_rate=0.3, max_depth=40, n_estimators=7; total time=   0.0s\n",
      "[CV] END ....learning_rate=0.3, max_depth=40, n_estimators=6; total time=   0.0s\n",
      "[CV] END ....learning_rate=0.3, max_depth=40, n_estimators=6; total time=   0.1s\n",
      "[CV] END ....learning_rate=0.3, max_depth=40, n_estimators=7; total time=   0.1s\n",
      "[CV] END ....learning_rate=0.3, max_depth=40, n_estimators=7; total time=   0.1s\n",
      "[CV] END ....learning_rate=0.3, max_depth=40, n_estimators=8; total time=   0.0s\n",
      "[CV] END ....learning_rate=0.3, max_depth=40, n_estimators=7; total time=   0.0s\n",
      "[CV] END ....learning_rate=0.3, max_depth=40, n_estimators=7; total time=   0.0s\n",
      "[CV] END ....learning_rate=0.3, max_depth=50, n_estimators=5; total time=   0.0s\n",
      "[CV] END ....learning_rate=0.3, max_depth=40, n_estimators=8; total time=   0.0s\n",
      "[CV] END ....learning_rate=0.3, max_depth=40, n_estimators=8; total time=   0.0s\n",
      "[CV] END ....learning_rate=0.3, max_depth=30, n_estimators=6; total time=   0.4s\n",
      "[CV] END ....learning_rate=0.3, max_depth=50, n_estimators=5; total time=   0.0s\n",
      "[CV] END ....learning_rate=0.3, max_depth=40, n_estimators=8; total time=   0.0s\n",
      "[CV] END ....learning_rate=0.3, max_depth=30, n_estimators=7; total time=   0.1s\n",
      "[CV] END ....learning_rate=0.3, max_depth=50, n_estimators=5; total time=   0.1s\n",
      "[CV] END ....learning_rate=0.3, max_depth=50, n_estimators=5; total time=   0.1s\n",
      "[CV] END ....learning_rate=0.3, max_depth=50, n_estimators=6; total time=   0.0s\n",
      "[CV] END ....learning_rate=0.3, max_depth=30, n_estimators=7; total time=   0.2s\n",
      "[CV] END ....learning_rate=0.3, max_depth=40, n_estimators=8; total time=   0.2s\n",
      "[CV] END ....learning_rate=0.3, max_depth=50, n_estimators=5; total time=   0.2s\n",
      "[CV] END ....learning_rate=0.3, max_depth=50, n_estimators=7; total time=   0.0s\n",
      "[CV] END ....learning_rate=0.3, max_depth=50, n_estimators=6; total time=   0.2s\n",
      "[CV] END ....learning_rate=0.3, max_depth=50, n_estimators=6; total time=   0.1s\n",
      "[CV] END ....learning_rate=0.3, max_depth=50, n_estimators=6; total time=   0.0s\n",
      "[CV] END ....learning_rate=0.3, max_depth=50, n_estimators=8; total time=   0.0s\n",
      "[CV] END ....learning_rate=0.3, max_depth=50, n_estimators=6; total time=   0.0s\n",
      "[CV] END ....learning_rate=0.3, max_depth=50, n_estimators=7; total time=   0.1s\n",
      "[CV] END ....learning_rate=0.3, max_depth=50, n_estimators=8; total time=   0.0s\n",
      "[CV] END ....learning_rate=0.3, max_depth=50, n_estimators=7; total time=   0.0s\n",
      "[CV] END ....learning_rate=0.3, max_depth=50, n_estimators=8; total time=   0.0s\n",
      "[CV] END ....learning_rate=0.3, max_depth=50, n_estimators=7; total time=   0.0s\n",
      "[CV] END ....learning_rate=0.3, max_depth=50, n_estimators=8; total time=   0.0s\n",
      "[CV] END ....learning_rate=0.3, max_depth=50, n_estimators=7; total time=   0.0s\n",
      "[CV] END ....learning_rate=0.3, max_depth=50, n_estimators=8; total time=   0.0s\n"
     ]
    },
    {
     "data": {
      "text/plain": [
       "GridSearchCV(cv=5,\n",
       "             estimator=XGBClassifier(base_score=None, booster=None,\n",
       "                                     callbacks=None, colsample_bylevel=None,\n",
       "                                     colsample_bynode=None,\n",
       "                                     colsample_bytree=None,\n",
       "                                     early_stopping_rounds=None,\n",
       "                                     enable_categorical=False, eval_metric=None,\n",
       "                                     feature_types=None, gamma=None,\n",
       "                                     gpu_id=None, grow_policy=None,\n",
       "                                     importance_type=None,\n",
       "                                     interaction_constraints=None,\n",
       "                                     learning_rate=None,...\n",
       "                                     max_cat_threshold=None,\n",
       "                                     max_cat_to_onehot=None,\n",
       "                                     max_delta_step=None, max_depth=None,\n",
       "                                     max_leaves=None, min_child_weight=None,\n",
       "                                     missing=nan, monotone_constraints=None,\n",
       "                                     n_estimators=100, n_jobs=None,\n",
       "                                     num_parallel_tree=None, predictor=None,\n",
       "                                     random_state=None, ...),\n",
       "             n_jobs=-1,\n",
       "             param_grid={'learning_rate': [0.2, 0.25, 0.3],\n",
       "                         'max_depth': [30, 40, 50],\n",
       "                         'n_estimators': [5, 6, 7, 8]},\n",
       "             verbose=2)"
      ]
     },
     "execution_count": 28,
     "metadata": {},
     "output_type": "execute_result"
    }
   ],
   "source": [
    "\n",
    "bst_grid.fit(X_train,y_train['Survived'])"
   ]
  },
  {
   "cell_type": "code",
   "execution_count": null,
   "metadata": {},
   "outputs": [],
   "source": [
    "bst_grid.best_estimator_"
   ]
  },
  {
   "cell_type": "code",
   "execution_count": null,
   "metadata": {},
   "outputs": [],
   "source": [
    "y_test_pred_lgbm=bst_grid.predict(X_test)\n",
    "get_performance(y_test_pred_lgbm, y_test['Survived'])"
   ]
  },
  {
   "attachments": {},
   "cell_type": "markdown",
   "metadata": {},
   "source": [
    "### NN"
   ]
  },
  {
   "cell_type": "code",
   "execution_count": null,
   "metadata": {},
   "outputs": [],
   "source": [
    "model = keras.Sequential()\n",
    "model.add(layers.Dense(8, input_dim=6, activation='relu'))\n",
    "model.add(layers.Dense(128, activation='relu'))\n",
    "model.add(layers.Dense(128, activation='relu'))\n",
    "model.add(layers.Dense(2, activation='softmax'))\n",
    "\n",
    "model.summary()"
   ]
  },
  {
   "cell_type": "code",
   "execution_count": null,
   "metadata": {},
   "outputs": [],
   "source": [
    "opt = keras.optimizers.Adam(learning_rate=0.001)"
   ]
  },
  {
   "cell_type": "code",
   "execution_count": null,
   "metadata": {},
   "outputs": [],
   "source": [
    "model.compile(\n",
    "  loss='sparse_categorical_crossentropy', \n",
    "  optimizer=opt,\n",
    "  metrics=['accuracy'],\n",
    ")"
   ]
  },
  {
   "cell_type": "code",
   "execution_count": null,
   "metadata": {},
   "outputs": [],
   "source": [
    "cp2 = keras.callbacks.ModelCheckpoint('/home/manuelquiros/Documents/Kaggle/Titanic/MLP/', save_best_only=True)\n",
    "log_dir2 = \"MLP/logs/fit/\"\n",
    "tb2 = keras.callbacks.TensorBoard(log_dir=log_dir2, histogram_freq=1)\n",
    "es2 = keras.callbacks.EarlyStopping(monitor='val_accuracy', patience=8)"
   ]
  },
  {
   "cell_type": "code",
   "execution_count": null,
   "metadata": {},
   "outputs": [],
   "source": [
    "history = model.fit(\n",
    "  X_train, \n",
    "  y_train['Survived'], \n",
    "  epochs=50, \n",
    "  batch_size=16, \n",
    "  validation_split=0.2,\n",
    "  callbacks=[cp2,tb2]\n",
    ")"
   ]
  },
  {
   "cell_type": "code",
   "execution_count": null,
   "metadata": {},
   "outputs": [],
   "source": [
    "model = keras.models.load_model('MLP/')"
   ]
  },
  {
   "cell_type": "code",
   "execution_count": null,
   "metadata": {},
   "outputs": [],
   "source": []
  },
  {
   "cell_type": "code",
   "execution_count": null,
   "metadata": {},
   "outputs": [],
   "source": [
    "y_test_pred_lgbm"
   ]
  },
  {
   "cell_type": "code",
   "execution_count": null,
   "metadata": {},
   "outputs": [],
   "source": [
    "y_test_pred_lgbm=model.predict(X_test)\n",
    "get_performance(y_test_pred_lgbm, y_test['Survived'])"
   ]
  },
  {
   "attachments": {},
   "cell_type": "markdown",
   "metadata": {},
   "source": [
    "### Validation predictions"
   ]
  },
  {
   "cell_type": "code",
   "execution_count": null,
   "metadata": {},
   "outputs": [],
   "source": [
    "#change the model in the predict line\n",
    "X_val = pd.read_csv('X_val.csv')\n",
    "X_val_pred = X_val.drop(columns=['Unnamed: 0','PassengerId'],axis=1)\n",
    "y_val_pred_rf=bst_grid.predict(X_val_pred)\n",
    "X_val['Survived']=y_val_pred_rf\n",
    "output=X_val.drop(columns=['Unnamed: 0',  'Pclass', 'Sex', 'Age', 'SibSp', 'Parch','Fare'],axis=1)\n",
    "output.to_csv('output.csv',index=False)"
   ]
  },
  {
   "cell_type": "code",
   "execution_count": null,
   "metadata": {},
   "outputs": [],
   "source": []
  }
 ],
 "metadata": {
  "kernelspec": {
   "display_name": "base",
   "language": "python",
   "name": "python3"
  },
  "language_info": {
   "codemirror_mode": {
    "name": "ipython",
    "version": 3
   },
   "file_extension": ".py",
   "mimetype": "text/x-python",
   "name": "python",
   "nbconvert_exporter": "python",
   "pygments_lexer": "ipython3",
   "version": "3.9.7"
  },
  "orig_nbformat": 4,
  "vscode": {
   "interpreter": {
    "hash": "7676e78aece40e0426929fecde448aef8f22f9e7ea9bf13ecbfb814c896b3b35"
   }
  }
 },
 "nbformat": 4,
 "nbformat_minor": 2
}
